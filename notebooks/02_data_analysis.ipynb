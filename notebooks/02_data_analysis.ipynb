{
 "cells": [
  {
   "cell_type": "markdown",
   "metadata": {},
   "source": [
    "# Notebook de Análise de Dados - Trackie\n",
    "\n",
    "Este notebook oferece uma maneira interativa de explorar e analisar os dados gerados pela aplicação, começando pelo banco de dados de rostos conhecidos.\n",
    "\n",
    "**Objetivos:**\n",
    "1.  Listar todas as pessoas cadastradas no banco de dados.\n",
    "2.  Contar quantas imagens de referência existem para cada pessoa.\n",
    "3.  Visualizar as imagens de referência salvas para cada pessoa cadastrada."
   ]
  },
  {
   "cell_type": "code",
   "execution_count": null,
   "metadata": {},
   "outputs": [],
   "source": [
    "import sys\n",
    "import os\n",
    "from pathlib import Path\n",
    "import cv2\n",
    "import matplotlib.pyplot as plt\n",
    "import pandas as pd\n",
    "import numpy as np # Importado para manipulação de arrays no plot\n",
    "\n",
    "# --- Configuração de Caminhos ---\n",
    "# Assume que o notebook está em um diretório como 'notebooks/' na raiz do projeto.\n",
    "# Ex: /caminho/para/projeto/notebooks/este_notebook.ipynb\n",
    "try:\n",
    "    project_root = Path(os.getcwd()).parent\n",
    "    src_path = project_root / \"src\"\n",
    "    if str(src_path) not in sys.path:\n",
    "        sys.path.insert(0, str(src_path))\n",
    "\n",
    "    # Importa as configurações para obter o caminho do banco de dados\n",
    "    from trackie.config.settings import settings\n",
    "    \n",
    "    # Caminho para o banco de dados de rostos\n",
    "    DB_PATH = project_root / settings.paths.data / \"user_data\" / \"known_faces\"\n",
    "    print(f\"Analisando o banco de dados de rostos em: {DB_PATH}\")\n",
    "\n",
    "except (ImportError, AttributeError, FileNotFoundError):\n",
    "    print(\"Erro: Não foi possível importar as configurações ou encontrar os diretórios do projeto.\")\n",
    "    print(\"Verifique se o notebook está na pasta correta ('notebooks/') e se a estrutura do projeto está intacta.\")\n",
    "    DB_PATH = None # Define como None para que as células seguintes não executem com erro"
   ]
  },
  {
   "cell_type": "markdown",
   "metadata": {},
   "source": [
    "## 1. Análise do Banco de Dados de Rostos\n",
    "\n",
    "Vamos escanear o diretório de dados para identificar todas as pessoas cadastradas e contar o número de imagens de referência para cada uma."
   ]
  },
  {
   "cell_type": "code",
   "execution_count": null,
   "metadata": {},
   "outputs": [],
   "source": [
    "face_data = []\n",
    "# Verifica se o caminho foi definido corretamente e se o diretório existe\n",
    "if DB_PATH and DB_PATH.exists():\n",
    "    # Itera sobre cada pasta de pessoa no banco de dados\n",
    "    for person_dir in DB_PATH.iterdir():\n",
    "        if person_dir.is_dir():\n",
    "            person_name = person_dir.name\n",
    "            # Conta apenas os arquivos de imagem .jpg, .png e .jpeg\n",
    "            image_extensions = [\"*.jpg\", \"*.jpeg\", \"*.png\"]\n",
    "            image_files = []\n",
    "            for ext in image_extensions:\n",
    "                image_files.extend(list(person_dir.glob(ext)))\n",
    "            \n",
    "            image_count = len(image_files)\n",
    "            face_data.append({\"Pessoa\": person_name, \"Nº de Imagens\": image_count})\n",
    "else:\n",
    "    print(\"O diretório do banco de dados de rostos não foi encontrado ou não existe.\")\n",
    "\n",
    "# Cria um DataFrame do Pandas para uma visualização clara\n",
    "if face_data:\n",
    "    df = pd.DataFrame(face_data)\n",
    "    # Ordena o DataFrame por nome para uma visualização mais organizada\n",
    "    df = df.sort_values(by=\"Pessoa\").reset_index(drop=True)\n",
    "    \n",
    "    print(\"Resumo do Banco de Dados de Rostos:\")\n",
    "    # Usa to_string para garantir que todas as linhas sejam exibidas sem truncamento\n",
    "    print(df.to_string(index=False))\n",
    "else:\n",
    "    print(\"Nenhuma pessoa encontrada no banco de dados.\")"
   ]
  },
  {
   "cell_type": "markdown",
   "metadata": {},
   "source": [
    "## 2. Visualização das Imagens de Referência\n",
    "\n",
    "Agora, vamos visualizar as imagens de referência para cada pessoa encontrada no banco de dados."
   ]
  },
  {
   "cell_type": "code",
   "execution_count": null,
   "metadata": {},
   "outputs": [],
   "source": [
    "# Verifica se o DataFrame foi criado na célula anterior\n",
    "if 'df' in locals() and not df.empty:\n",
    "    \n",
    "    # Itera sobre cada pessoa no DataFrame para criar um gráfico para cada uma\n",
    "    for index, row in df.iterrows():\n",
    "        person_to_show = row['Pessoa']\n",
    "        person_path = DB_PATH / person_to_show\n",
    "        \n",
    "        # Coleta todos os tipos de imagem\n",
    "        image_extensions = [\"*.jpg\", \"*.jpeg\", \"*.png\"]\n",
    "        image_files = []\n",
    "        for ext in image_extensions:\n",
    "            image_files.extend(list(person_path.glob(ext)))\n",
    "        \n",
    "        if not image_files:\n",
    "            print(f\"\\nNenhuma imagem encontrada para {person_to_show}, pulando.\")\n",
    "            continue # Pula para a próxima pessoa\n",
    "        \n",
    "        # --- Configuração do Gráfico (Plot) ---\n",
    "        num_images = len(image_files)\n",
    "        cols = 4  # Define um máximo de 4 colunas por linha\n",
    "        rows = (num_images + cols - 1) // cols\n",
    "        \n",
    "        fig, axes = plt.subplots(rows, cols, figsize=(15, 4 * rows))\n",
    "        \n",
    "        # Garante que 'axes' seja sempre um array iterável, mesmo com 1 imagem\n",
    "        axes = np.atleast_1d(axes).flatten()\n",
    "        \n",
    "        fig.suptitle(f\"Imagens de Referência para: {person_to_show} ({num_images} imagens)\", fontsize=16)\n",
    "        \n",
    "        for i, img_path in enumerate(image_files):\n",
    "            img = cv2.imread(str(img_path))\n",
    "            # Converte a imagem de BGR (padrão do OpenCV) para RGB (padrão do Matplotlib)\n",
    "            img_rgb = cv2.cvtColor(img, cv2.COLOR_BGR2RGB)\n",
    "            \n",
    "            axes[i].imshow(img_rgb)\n",
    "            axes[i].set_title(img_path.name, fontsize=9)\n",
    "            axes[i].axis('off') # Remove os eixos (x, y)\n",
    "            \n",
    "        # Oculta os subplots que não foram utilizados\n",
    "        for j in range(num_images, len(axes)):\n",
    "            axes[j].axis('off')\n",
    "            \n",
    "        plt.tight_layout(rect=[0, 0.03, 1, 0.95]) # Ajusta o layout para evitar sobreposição\n",
    "        plt.show()\n",
    "else:\n",
    "    print(\"Não há dados para visualizar. Execute a célula de análise primeiro.\")"
   ]
  }
 ],
 "metadata": {
  "kernelspec": {
   "display_name": "Python 3 (ipykernel)",
   "language": "python",
   "name": "python3"
  },
  "language_info": {
   "codemirror_mode": {
    "name": "ipython",
    "version": 3
   },
   "file_extension": ".py",
   "mimetype": "text/x-python",
   "name": "python",
   "nbconvert_exporter": "python",
   "pygments_lexer": "ipython3",
   "version": "3.10.9"
  }
 },
 "nbformat": 4,
 "nbformat_minor": 4
}
